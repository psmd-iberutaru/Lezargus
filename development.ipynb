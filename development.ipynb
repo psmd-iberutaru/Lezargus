{
 "cells": [
  {
   "cell_type": "markdown",
   "metadata": {},
   "source": [
    "# Development Testing File\n",
    "\n",
    "This Jupyter notebook file is a testing ground for a lot of the development of Lezargus. It is not to be used other than the developers."
   ]
  },
  {
   "cell_type": "code",
   "execution_count": 1,
   "metadata": {},
   "outputs": [
    {
     "name": "stderr",
     "output_type": "stream",
     "text": [
      "\u001b[38;2;255;121;0m[Lezargus] 2023-08-01T13:41:51    ERROR -- DevelopmentError - The filter name B_ does not follow the convention of being maximally two characters long with a trailing underscore where needed.\u001b[0m\n",
      "\u001b[38;2;255;121;0m[Lezargus] 2023-08-01T13:41:51    ERROR -- DevelopmentError - The filter name V_ does not follow the convention of being maximally two characters long with a trailing underscore where needed.\u001b[0m\n",
      "\u001b[38;2;255;121;0m[Lezargus] 2023-08-01T13:41:51    ERROR -- DevelopmentError - The filter name J_ does not follow the convention of being maximally two characters long with a trailing underscore where needed.\u001b[0m\n",
      "\u001b[38;2;255;121;0m[Lezargus] 2023-08-01T13:41:51    ERROR -- DevelopmentError - The filter name H_ does not follow the convention of being maximally two characters long with a trailing underscore where needed.\u001b[0m\n",
      "\u001b[38;2;255;121;0m[Lezargus] 2023-08-01T13:41:51    ERROR -- DevelopmentError - The filter name KS does not follow the convention of being maximally two characters long with a trailing underscore where needed.\u001b[0m\n"
     ]
    }
   ],
   "source": [
    "import numpy as np\n",
    "import matplotlib.pyplot as plt\n",
    "\n",
    "import lezargus\n",
    "\n",
    "%matplotlib Qt"
   ]
  },
  {
   "cell_type": "code",
   "execution_count": 44,
   "metadata": {},
   "outputs": [],
   "source": [
    "# Mauna Kea conditions.\n",
    "mk_temp = 273.15 \n",
    "mk_pres = 62.4e3\n",
    "mk_h2o = 230\n",
    "# Center wavelength \n",
    "cen_wave = 2.2\n",
    "\n",
    "def mk_refr_function(wavelength, zenith):\n",
    "    return lezargus.library.atmosphere.relative_atmospheric_refraction_function(wavelength=wavelength, reference_wavelength=cen_wave, zenith_angle=zenith, pressure=mk_pres, temperature=mk_temp, water_pressure=mk_h2o)\n",
    "\n",
    "def airmass_to_zenith(airmass):\n",
    "    return np.arccos(1/airmass)"
   ]
  },
  {
   "cell_type": "code",
   "execution_count": 45,
   "metadata": {},
   "outputs": [],
   "source": [
    "plot_wave = np.linspace(0.25, 4.3, 1000)\n",
    "plot_airmass = [1.0, 1.1, 1.25, 1.5, 1.75, 2.0, 2.5, 3.0]\n",
    "\n",
    "plt.figure(layout=\"constrained\")\n",
    "\n",
    "plt.title(f\"Mauna Kea Refraction: T = {mk_temp} K, P = {mk_pres} Pa, H2O = {mk_h2o} Pa\")\n",
    "\n",
    "for airmassdex in plot_airmass:\n",
    "    zenith_angle = airmass_to_zenith(airmassdex)\n",
    "\n",
    "    refract = mk_refr_function(plot_wave, zenith_angle)\n",
    "\n",
    "    plt.plot(plot_wave, refract(plot_wave)*206265, label=\"Airmass = {a:.2f} (ZA = {za:.2f})\".format(a=airmassdex, za=zenith_angle * 180/np.pi))\n",
    "\n",
    "plt.axhline(7.2/2, color=\"black\", linestyle=\"dotted\", label=\"Half IFU\")\n",
    "plt.axvline(cen_wave, color=\"gray\", alpha=0.75, label=\"Ref Wave = {rw}\".format(rw=cen_wave))\n",
    "\n",
    "plt.axvspan(0.4, 4.2, alpha=0.25, color=\"green\")\n",
    "\n",
    "plt.xticks(np.arange(min(plot_wave), max(plot_wave)+1, 0.25))\n",
    "plt.yticks(np.arange(-5, 5, 0.5))\n",
    "\n",
    "plt.xlim([min(plot_wave), max(plot_wave)])\n",
    "plt.ylim([-2,5])\n",
    "\n",
    "plt.xlabel(\"Wavelength [um]\")\n",
    "plt.ylabel(\"Relative Refraction [arcsec]\")\n",
    "\n",
    "plt.legend()\n",
    "plt.show()"
   ]
  },
  {
   "cell_type": "code",
   "execution_count": 7,
   "metadata": {},
   "outputs": [
    {
     "data": {
      "text/plain": [
       "array([1.28379e-17, 1.73743e-17, 1.84571e-17, ..., 1.36023e-19,\n",
       "       1.35388e-19, 1.33880e-19])"
      ]
     },
     "execution_count": 7,
     "metadata": {},
     "output_type": "execute_result"
    }
   ],
   "source": [
    "lezargus.library.data.VEGA"
   ]
  },
  {
   "cell_type": "code",
   "execution_count": null,
   "metadata": {},
   "outputs": [],
   "source": []
  }
 ],
 "metadata": {
  "kernelspec": {
   "display_name": "Python 3",
   "language": "python",
   "name": "python3"
  },
  "language_info": {
   "codemirror_mode": {
    "name": "ipython",
    "version": 3
   },
   "file_extension": ".py",
   "mimetype": "text/x-python",
   "name": "python",
   "nbconvert_exporter": "python",
   "pygments_lexer": "ipython3",
   "version": "3.11.2"
  },
  "orig_nbformat": 4
 },
 "nbformat": 4,
 "nbformat_minor": 2
}
